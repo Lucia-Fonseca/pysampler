{
 "cells": [
  {
   "cell_type": "code",
   "execution_count": 1,
   "id": "marked-force",
   "metadata": {},
   "outputs": [],
   "source": [
    "%matplotlib inline\n",
    "import matplotlib.pyplot as plt\n",
    "import numpy as np\n",
    "from scipy.interpolate import interp1d"
   ]
  },
  {
   "cell_type": "markdown",
   "id": "surface-ratio",
   "metadata": {},
   "source": [
    "## Prepare simulated data\n"
   ]
  },
  {
   "cell_type": "code",
   "execution_count": 3,
   "id": "frank-april",
   "metadata": {},
   "outputs": [],
   "source": [
    "import sys\n",
    "sys.path.append('../')\n",
    "from pysampler.generate import sampler, statistics\n",
    "# from massf_sampler import mass_function"
   ]
  },
  {
   "cell_type": "code",
   "execution_count": 4,
   "id": "antique-banking",
   "metadata": {},
   "outputs": [],
   "source": [
    "def mass_function(massx):\n",
    "    phi_star, alpha, m_star = 4.032e-3, -0.45, 10**10.62\n",
    "    m = np.linspace(1e10, 1e14)\n",
    "    x = m / m_star\n",
    "    mf = phi_star * np.power(x, alpha) * np.exp(-x)\n",
    "    return np.interp(massx, m, mf )"
   ]
  },
  {
   "cell_type": "code",
   "execution_count": 6,
   "id": "crucial-tissue",
   "metadata": {},
   "outputs": [],
   "source": [
    "mass = []\n",
    "nbins=50\n",
    "blue = (4.032e-3, -0.45, 10**10.62) # Schechter blue parameters\n",
    "\n",
    "for i in range(10):\n",
    "    sample = sampler(mass_function, 1e10,1e14,resolution=1000, size=1000000)\n",
    "    mass.append(sample)"
   ]
  },
  {
   "cell_type": "code",
   "execution_count": 7,
   "id": "played-deadline",
   "metadata": {},
   "outputs": [],
   "source": [
    "average_sample, bin_center, mean, std = statistics(np.log10(mass), nbins)"
   ]
  },
  {
   "cell_type": "code",
   "execution_count": 10,
   "id": "invalid-creature",
   "metadata": {},
   "outputs": [
    {
     "data": {
      "image/png": "[encoded data removed]",
      "text/plain": [
       "<Figure size 432x288 with 1 Axes>"
      ]
     },
     "metadata": {
      "needs_background": "light"
     },
     "output_type": "display_data"
    }
   ],
   "source": [
    "for mm in mass:\n",
    "    plt.hist(np.log10(mm), bins=nbins, histtype='step', lw=0.1)\n",
    "\n",
    "plt.hist(average_sample, bins=nbins, histtype='step', color='k')\n",
    "plt.errorbar(bin_center, mean, yerr=std, color='k', lw=1) \n",
    "\n",
    "plt.ylabel('N')\n",
    "plt.savefig('../docs/_static/shechter_sampler.pdf')\n",
    "plt.show()"
   ]
  }
 ],
 "metadata": {
  "kernelspec": {
   "display_name": "Python 3",
   "language": "python",
   "name": "python3"
  },
  "language_info": {
   "codemirror_mode": {
    "name": "ipython",
    "version": 3
   },
   "file_extension": ".py",
   "mimetype": "text/x-python",
   "name": "python",
   "nbconvert_exporter": "python",
   "pygments_lexer": "ipython3",
   "version": "3.8.8"
  }
 },
 "nbformat": 4,
 "nbformat_minor": 5
}
